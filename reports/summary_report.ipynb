{
 "cells": [
  {
   "cell_type": "markdown",
   "metadata": {},
   "source": [
    "# Data 602 - Breast Power Awareness, Model on Breast Cancer \n",
    "### - Sana Sharma"
   ]
  },
  {
   "cell_type": "markdown",
   "metadata": {},
   "source": [
    "## Abstract\n",
    "\n",
    "Breast cancer is the second leading cause of cancer deaths among U.S. women, thus a lot of research is being done to help improve mortality. The dataset is available through the [UCI Machine Learning Repository](https://archive.ics.uci.edu/ml/datasets/Breast+Cancer+Wisconsin+(Diagnostic)), [Scikit-learn](https://scikit-learn.org/stable/modules/generated/sklearn.datasets.load_breast_cancer.html) and also availbale on [Kaggle](https://www.kaggle.com/uciml/breast-cancer-wisconsin-data). In this project, I will use four machine learning algorithms: Logistic Regression, K-Nearest Neighbors, Decision Tree and Random Forest to create models for Breast Cancer prediction and compare which has the best accuracy score though testing and training. Experimental results have shown that a different model is predicting better accuracy at training and a differnt for testing data. \n"
   ]
  },
  {
   "cell_type": "markdown",
   "metadata": {},
   "source": [
    "## Introduction\n",
    "\n",
    "Breast cancer is a significant public health problem in today’s society. It is one of the most common cancers among women worldwide, representing the majority of new cancer cases and cancer-related deaths according to global statistics. The early diagnosis can improve the prognosis and chance of survival, as it can promote timely clinical treatment to patients. Furthermore, accurate classification of benign tumors can prevent patients undergoing unnecessary treatments. Thus, the correct diagnosis of breast cancer and classification of patients into malignant or benign groups is the subject of much research. Many researchers use machine learning (ML) as the methodology to predict breast cancer pattern classification and forecast modelling. Classification and data mining methods are an effective way to classify breast cancer data. "
   ]
  },
  {
   "cell_type": "markdown",
   "metadata": {},
   "source": [
    "## Motivation\n",
    "\n",
    "Model selection is the most exciting phase in Applying Machine Learning to any dataset and is also known as algorithm selection for predicting the best results. In our dataset we have the outcome variable or Dependent variable i.e Y having only two set of values, either M (Malign) or B(Benign). So I will use Classification algorithm of supervised learning. After my research, the goal is that the highest performing model may eventually be used to create an AI tool to assist clinicians in BC screening and detection. Machine Learning, in this field has proved to play a vital role in predicting diseases such as cancers alike. Classification and data mining methods so far have been reliant and an effective way to classify data. Especially in medical field, these methods have been used to predict and to make decisions."
   ]
  },
  {
   "cell_type": "markdown",
   "metadata": {},
   "source": [
    "## Research Question \n",
    "\n",
    "This research study aims to address following research question -\n",
    "\n",
    "Which ML model from this study best enables the prediction of BC using the classification algorithm of supervised learning by testing and training the data?"
   ]
  },
  {
   "cell_type": "markdown",
   "metadata": {},
   "source": [
    "## Attribute Information:\n",
    "\n",
    "The dataset used is publicly available and was created by Dr. William H. Wolberg, physician at the University Of Wisconsin Hospital at Madison, Wisconsin, USA.\n",
    "\n",
    "1. ID number\n",
    "2. Diagnosis (M/0 = malignant, B/1 = benign)\n",
    "\n",
    "Ten real-valued features are computed for each cell nucleus:\n",
    "\n",
    "1. radius (mean of distances from center to points on the perimeter)\n",
    "2. texture (standard deviation of gray-scale values)\n",
    "3. perimeter\n",
    "4. area\n",
    "5. smoothness (local variation in radius lengths)\n",
    "6. compactness (perimeter^2 / area - 1.0)\n",
    "7. concavity (severity of concave portions of the contour)\n",
    "8. concave points (number of concave portions of the contour)\n",
    "9. symmetry\n",
    "10. fractal dimension (\"coastline approximation\" - 1)"
   ]
  },
  {
   "cell_type": "markdown",
   "metadata": {},
   "source": [
    "## Proposed method\n",
    "\n",
    "I will be using exploratory data analysis and machine learning techniques. To apply the algorithms, will be using SciKit-Learn library in Python to split the data into training and testing data and will use sklearn library to import all the methods of classification algorithms. After which I will predict the test set results and check the accuracy with each of our models. And finally, to check the accuracy I will import confusion_matrix method of metrics class, the confusion matrix is a way of tabulating the number of mis-classifications. "
   ]
  },
  {
   "cell_type": "markdown",
   "metadata": {},
   "source": [
    "## Experiments\n",
    "\n",
    "For this project I am using jupyter notebook with python programming language to write the\n",
    "script. After importing the libraries and loading the dataset from sklearn.datasets.load_breast_cancer, I performed the exploratory data analysis and observed that there were no missing values in the dataset. Then I examined the data using df.info and observed 569 entries and 30 columns with all dtype columns as float. \n",
    "After the data exploration, I used SciKit-Learn library in Python using the train_test_split method, to split the data into training data and test data. Then used the Logistic Regression, KNN, RandomForestRegressor and DecisionTreeRegressor method of model selection to predict the test set results. To check the accuracy with each of the models I used confusion matrix method also plotted the results using seaborn heatmap."
   ]
  },
  {
   "cell_type": "markdown",
   "metadata": {},
   "source": [
    "## Results \n",
    "\n",
    "The accuracy of each model while training is predicted as below:\n",
    "\n",
    "1. Logistic Regression - 0.96\n",
    "2. K-Nearest Neighbors - 0.95\n",
    "3. Decision Tree - 0.96\n",
    "4. Random Forest - 0.97\n",
    "\n",
    "The accuracy of each model while testing is predicted as below:\n",
    "\n",
    "1. Logistic Regression - 0.96 (+/- 0.03) \n",
    "2. K-Nearest Neighbors - 0.94 (+/- 0.02)\n",
    "3. Decision Tree - 0.91 (+/- 0.05)\n",
    "4. Random Forest - 0.94 (+/- 0.05)"
   ]
  },
  {
   "cell_type": "markdown",
   "metadata": {},
   "source": [
    "https://stackoverflow.com/questions/32370281/how-to-embed-image-or-picture-in-jupyter-notebook-either-from-a-local-machine-o"
   ]
  },
  {
   "cell_type": "code",
   "execution_count": 11,
   "metadata": {},
   "outputs": [
    {
     "data": {
      "image/png": "[encoded data removed]",
      "text/plain": [
       "<Figure size 432x288 with 1 Axes>"
      ]
     },
     "metadata": {
      "needs_background": "light"
     },
     "output_type": "display_data"
    }
   ],
   "source": [
    "import matplotlib.pyplot as plt\n",
    "import matplotlib.image as mpimg\n",
    "image = mpimg.imread(\"graph.png\")\n",
    "plt.imshow(image)\n",
    "plt.show()"
   ]
  },
  {
   "cell_type": "markdown",
   "metadata": {},
   "source": [
    "## Conclusion and Summary\n",
    "\n",
    "We conclude that while training the dataset, Random Forest showed the best accuracy score and while testing the dataset, Logistic Regression showed the best accuracy score. Thus, these modelling processes could potentially serve to discover cheap and effective BC biomarkers and can serve as basis for future work. But since we see that all accuracy are over 90%, the models are probably overfitting. Thus, the models require future work. "
   ]
  },
  {
   "cell_type": "markdown",
   "metadata": {},
   "source": [
    "## Limitations and Later Work\n",
    "\n",
    "The model works well with simple classification but it starts over fitting with complex classification, since no model is good enough to give 90% accuracy. Thus, for later works I will work on keeping the model simple, more data cleaning is required to reduce variance by taking into account fewer variables and parameters, thereby removing some of the noise in the training data. Use regularization techniques that penalize certain model parameters if they're likely to cause overfitting. Hence, work on a better classification model that can prevent overfitting with this dataset."
   ]
  },
  {
   "cell_type": "markdown",
   "metadata": {},
   "source": [
    "## Documents Submitted -\n",
    "\n",
    "### Notebooks \n",
    "\n",
    "    Technical Notebook: technical_notebook.ipynb\n",
    "\n",
    "### Dataset \n",
    "\n",
    "    sklearn.datasets.load_breast_cancer\n",
    "\n",
    "### Report \n",
    "\n",
    "    summary_report_ipynb\n",
    "    \n",
    "### Presentation \n",
    "    "
   ]
  },
  {
   "cell_type": "markdown",
   "metadata": {},
   "source": [
    "## References and contributions\n",
    "\n",
    "https://scikit-learn.org/stable/modules/generated/sklearn.datasets.load_breast_cancer.html\n",
    "https://towardsdatascience.com/building-a-simple-machine-learning-model-on-breast-cancer-data-eca4b3b99fa3\n",
    "https://scikit-learn.org/stable/modules/generated/sklearn.metrics.precision_score.html\n",
    "https://scikit-learn.org/stable/modules/generated/sklearn.metrics.recall_score.html\n",
    "https://www.kaggle.com/uciml/breast-cancer-wisconsin-data\n",
    "https://archive.ics.uci.edu/ml/datasets/Breast+Cancer+Wisconsin+(Diagnostic)"
   ]
  }
 ],
 "metadata": {
  "kernelspec": {
   "display_name": "Python 3",
   "language": "python",
   "name": "python3"
  },
  "language_info": {
   "codemirror_mode": {
    "name": "ipython",
    "version": 3
   },
   "file_extension": ".py",
   "mimetype": "text/x-python",
   "name": "python",
   "nbconvert_exporter": "python",
   "pygments_lexer": "ipython3",
   "version": "3.7.6"
  }
 },
 "nbformat": 4,
 "nbformat_minor": 4
}
