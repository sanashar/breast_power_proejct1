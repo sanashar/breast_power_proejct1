{
 "cells": [
  {
   "cell_type": "markdown",
   "metadata": {},
   "source": [
    "# Data 602 - Breast Power Awareness, Model on Breast Cancer \n",
    "### - Sana Sharma"
   ]
  },
  {
   "cell_type": "markdown",
   "metadata": {},
   "source": [
    "## Abstract\n",
    "\n",
    "In this project I will develop a machine learning algorithm that can predict the discrete class of breast cancer using test and training approach. This dataset is available through the UCI Machine Learning Repository: https://archive.ics.uci.edu/ml/datasets/Breast+Cancer+Wisconsin+(Diagnostic), sklearn.dataset:https://scikit-learn.org/stable/modules/generated/sklearn.datasets.load_breast_cancer.html and also availbale on Kaggle: https://www.kaggle.com/uciml/breast-cancer-wisconsin-data\n",
    "\n",
    "Breast cancer is the second leading cause of cancer deaths among U.S. women, thus a lot of research is being done to help reduce mortality."
   ]
  },
  {
   "cell_type": "markdown",
   "metadata": {},
   "source": [
    "## Introduction\n",
    "\n",
    "Breast cancer is a significant public health problem in today’s society. It is one of the most common cancers among women worldwide, representing the majority of new cancer cases and cancer-related deaths according to global statistics. The early diagnosis can improve the prognosis and chance of survival, as it can promote timely clinical treatment to patients. Furthermore, accurate classification of benign tumors can prevent patients undergoing unnecessary treatments. Thus, the correct diagnosis of breast cancer and classification of patients into malignant or benign groups is the subject of much research. Many researchers use machine learning (ML) as the methodology to predict breast cancer pattern classification and forecast modelling. Classification and data mining methods are an effective way to classify breast cancer data. "
   ]
  },
  {
   "cell_type": "markdown",
   "metadata": {},
   "source": [
    "## Motivation\n",
    "\n",
    "The dataset used is publicly available and was created by Dr. William H. Wolberg, physician at the University Of Wisconsin Hospital at Madison, Wisconsin, USA. To create the dataset Dr. Wolberg used fluid samples, taken from patients with solid breast masses and an easy-to-use graphical computer program, which is capable for analysis of cytological features. The program uses a curve-fitting algorithm, to compute ten features from each one of the cells in the sample, than it calculates the mean value, extreme value and standard error of each feature for the image, returning a 30 real-valuated vector.\n",
    "\n",
    "https://towardsdatascience.com/building-a-simple-machine-learning-model-on-breast-cancer-data-eca4b3b99fa3"
   ]
  },
  {
   "cell_type": "markdown",
   "metadata": {},
   "source": [
    "# Attribute Information:\n",
    "\n",
    "1. ID number\n",
    "2. Diagnosis (M/0 = malignant, B/1 = benign)\n",
    "\n",
    "Ten real-valued features are computed for each cell nucleus:\n",
    "\n",
    "1. radius (mean of distances from center to points on the perimeter)\n",
    "2. texture (standard deviation of gray-scale values)\n",
    "3. perimeter\n",
    "4. area\n",
    "5. smoothness (local variation in radius lengths)\n",
    "6. compactness (perimeter^2 / area - 1.0)\n",
    "7. concavity (severity of concave portions of the contour)\n",
    "8. concave points (number of concave portions of the contour)\n",
    "9. symmetry\n",
    "10. fractal dimension (\"coastline approximation\" - 1)"
   ]
  },
  {
   "cell_type": "markdown",
   "metadata": {},
   "source": [
    "## Goal\n",
    "\n",
    "The objective is to use machine learning classification methods to fit a function that can predict the discrete class of new input. The goal is to answer the following questions through our analysis -\n",
    "    \n",
    "    What is the accuracy of the training set?\n",
    "    What is the accuracy of the test set?\n",
    "    What is the precision of the test set?\n",
    "    What is the recall of the test set?\n",
    "    What is the area over the curve of the test set?\n",
    "    What is the F1 score of the test set?\n",
    "    \n",
    "Hypothesis - I hypothise that most of the features values are near to 0. Another hypothesis is that, both the classes(M, B) depends on the features values and feature values are different for for each class.\n"
   ]
  },
  {
   "cell_type": "markdown",
   "metadata": {},
   "source": [
    "## Proposed method\n",
    "\n",
    "I will explore and visualize the dataset using exploratory data analysis and machine learning techniques. \n",
    "Use SciKit-Learn library in Python to split the data into training and testing data. Also use Classification algorithm of supervised learning, since the dataset has outcome variable or dependent variable i.e Y having only two set of values, either M (Malign) or B(Benign). To check the accuracy we need to import confusion_matrix method of metrics class. The confusion matrix is a way of tabulating the number of mis-classifications, i.e., the number of predicted classes which ended up in a wrong classification bin based on the true classes. To prove both my hypothesis, I will be doing visual analysis through matplot.lib and seaborn. "
   ]
  },
  {
   "cell_type": "markdown",
   "metadata": {},
   "source": [
    "## Experiments\n",
    "\n",
    "For this project I am using jupyter notebook with python programming language to write the\n",
    "script. After importing the libraries and loading the dataset from sklearn.datasets.load_breast_cancer, I performed the exploratory data analysis and observed that there was no the missing values in the dataset. Then I examined the data using df.info and observed 569 entries and 30 columns with all dtype columns as float. \n",
    "After the data exploration, I used SciKit-Learn library in Python using the train_test_split method, to split the data into training data and test data. Then used the RandomForestRegressor and DecisionTreeRegressor method of model selection to predict the test set results and check the accuracy with each of the models.For my hyspothesis, I plotted a histogram and boxplot to show the feature values."
   ]
  },
  {
   "cell_type": "markdown",
   "metadata": {},
   "source": [
    "## Results and discussion\n",
    "\n",
    "The results to the goal questions are below -\n",
    "\n",
    "    What is the accuracy of the test set: 0.9300699300699301\n",
    "    What is the precision of the test set? 0.9424867021276595\n",
    "    What is the recall of the test set? 0.9125\n",
    "    What is the area over the curve of the test set? 0.9125000000000001\n",
    "    What is the F1 score of the test set? 0.9456521739130435\n",
    "\n",
    "Proof of Hypothesis -\n",
    "Through the histogram we can see that most of the values lie between 0.2 to 0.35; therefore, hypothesis is true. And through the boxplot we observe that the Worst Symmetry feature has a different impact on both classes, in one class maximum values lie at .3 and for the other it lies slighter over .25. Similarly for other feature 'worst concavity'.\n"
   ]
  },
  {
   "cell_type": "markdown",
   "metadata": {},
   "source": [
    "## Conclusion and summary\n",
    "\n",
    "Hence proved that both the hypothesis are true. On breast cancer dataset, accuracy was over 90% which could mean the model is is overfiting. Therefore, more complex models should not be used. "
   ]
  },
  {
   "cell_type": "markdown",
   "metadata": {},
   "source": [
    "## Limitations and later work\n",
    "\n",
    "The model works well with simple classification but it starts over fitting with complex classification. Thus for later works I will work on keeping the model simple: reduce variance by taking into account fewer variables and parameters, thereby removing some of the noise in the training data. Use regularization techniques such as LASSO that penalize certain model parameters if they're likely to cause overfitting. \n",
    "Hence, work on a better classification model that can prevent overfitting with this dataset."
   ]
  },
  {
   "cell_type": "markdown",
   "metadata": {},
   "source": [
    "## Documents Submitted -\n",
    "\n",
    "### Notebooks \n",
    "\n",
    "    Technical Notebook: technical_notebook.ipynb\n",
    "\n",
    "### Dataset \n",
    "\n",
    "    sklearn.datasets.load_breast_cancer\n",
    "\n",
    "### Report \n",
    "\n",
    "    summary_report_ipynb\n",
    "    \n",
    "### Presentation \n",
    "    "
   ]
  },
  {
   "cell_type": "markdown",
   "metadata": {},
   "source": [
    "## References and contributions\n",
    "\n",
    "https://scikit-learn.org/stable/modules/generated/sklearn.datasets.load_breast_cancer.html\n",
    "https://towardsdatascience.com/building-a-simple-machine-learning-model-on-breast-cancer-data-eca4b3b99fa3\n",
    "https://scikit-learn.org/stable/modules/generated/sklearn.metrics.precision_score.html\n",
    "https://scikit-learn.org/stable/modules/generated/sklearn.metrics.recall_score.html\n",
    "https://www.kaggle.com/uciml/breast-cancer-wisconsin-data\n",
    "https://archive.ics.uci.edu/ml/datasets/Breast+Cancer+Wisconsin+(Diagnostic)"
   ]
  }
 ],
 "metadata": {
  "kernelspec": {
   "display_name": "Python 3",
   "language": "python",
   "name": "python3"
  },
  "language_info": {
   "codemirror_mode": {
    "name": "ipython",
    "version": 3
   },
   "file_extension": ".py",
   "mimetype": "text/x-python",
   "name": "python",
   "nbconvert_exporter": "python",
   "pygments_lexer": "ipython3",
   "version": "3.7.6"
  }
 },
 "nbformat": 4,
 "nbformat_minor": 4
}
